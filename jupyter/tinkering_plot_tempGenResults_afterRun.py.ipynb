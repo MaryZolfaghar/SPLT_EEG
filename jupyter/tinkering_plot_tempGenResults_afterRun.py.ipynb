{
 "cells": [
  {
   "cell_type": "markdown",
   "metadata": {},
   "source": [
    "Check if saving and everything else has been correctly done after run the script for prestim later none filter on eCortex"
   ]
  },
  {
   "cell_type": "code",
   "execution_count": 2,
   "metadata": {},
   "outputs": [],
   "source": [
    "import mne\n",
    "import numpy as np\n",
    "import matplotlib.pyplot as plt\n",
    "\n",
    "from sklearn.pipeline import make_pipeline\n",
    "from sklearn.preprocessing import StandardScaler\n",
    "from sklearn.linear_model import LogisticRegression\n",
    "\n",
    "from mne.datasets import sample\n",
    "from mne.decoding import cross_val_multiscore, LinearModel, GeneralizingEstimator, Scaler, \\\n",
    "                         Vectorizer\n",
    "from sklearn.model_selection import StratifiedKFold, cross_val_score, StratifiedShuffleSplit, \\\n",
    "                                    RepeatedStratifiedKFold\n",
    "from sklearn.preprocessing import StandardScaler, LabelEncoder\n",
    "from sklearn.pipeline import make_pipeline\n",
    "from sklearn.svm import LinearSVC\n",
    "\n",
    "import argparse"
   ]
  },
  {
   "cell_type": "markdown",
   "metadata": {},
   "source": [
    "# Set args"
   ]
  },
  {
   "cell_type": "code",
   "execution_count": 4,
   "metadata": {},
   "outputs": [],
   "source": [
    "class arguments():\n",
    "    SAVE_EPOCH_ROOT = '../../data/version5.2/preprocessed/epochs/'\n",
    "    SAVE_RESULT_ROOT = '../../results/temp_gen/eCortex/laterNonePre/'\n",
    "    cond_filter ='none' # {none,non_symm}\n",
    "    cond_block ='later' #{early,later}\n",
    "    cond_time = 'prestim' #{prestim,poststim}\n",
    "    cond_decoding = 'none' #{none,removeevoked,resampled}\n",
    "    subj_num = 1\n",
    "    applyBaseline_bool = 0\n",
    "    pre_tmin = -0.4\n",
    "    pre_tmax = 0.05\n",
    "    post_tmin = 0.05\n",
    "    post_tmax = 0.45\n",
    "    num_classes = 2\n",
    "    normalization_type = 'normal'# {normal,lstmPaper}\n",
    "    gen_rand_perm = 0\n",
    "    null_max_iter = 10000\n",
    "    loop_null_iter = 5\n",
    "    gen_decoder_scores = 1\n",
    "    n_splits = 5\n",
    "    random_state = 42 \n",
    "    max_iter = 10000\n",
    "    n_jobs = 1\n",
    "    scoring = 'roc_auc'\n",
    "    \n",
    "args = arguments()"
   ]
  },
  {
   "cell_type": "markdown",
   "metadata": {},
   "source": [
    "# load nested list results using pickle"
   ]
  },
  {
   "cell_type": "code",
   "execution_count": 8,
   "metadata": {},
   "outputs": [],
   "source": [
    "main_ptrn=1\n",
    "\n",
    "fn_str_sbj='scores_timeGen_%sBlocks_%sFilter_%s_decod%s_bsline%s_Subj_%s' %(args.cond_block, args.cond_filter, args.cond_time, \\\n",
    "                                                               args.cond_decoding, args.applyBaseline_bool, \\\n",
    "                                                               args.subj_num)\n",
    "\n",
    "fn_str = args.SAVE_RESULT_ROOT + 'avgP%s_' %(main_ptrn) + fn_str_sbj"
   ]
  },
  {
   "cell_type": "code",
   "execution_count": 5,
   "metadata": {},
   "outputs": [
    {
     "ename": "NameError",
     "evalue": "name 'fn_str' is not defined",
     "output_type": "error",
     "traceback": [
      "\u001b[0;31m---------------------------------------------------------------------------\u001b[0m",
      "\u001b[0;31mNameError\u001b[0m                                 Traceback (most recent call last)",
      "\u001b[0;32m<ipython-input-5-67c3ad0d1a94>\u001b[0m in \u001b[0;36m<module>\u001b[0;34m\u001b[0m\n\u001b[0;32m----> 1\u001b[0;31m \u001b[0;32mwith\u001b[0m \u001b[0mopen\u001b[0m\u001b[0;34m(\u001b[0m\u001b[0mfn_str\u001b[0m\u001b[0;34m,\u001b[0m \u001b[0;34m'rb'\u001b[0m\u001b[0;34m)\u001b[0m \u001b[0;32mas\u001b[0m \u001b[0mf\u001b[0m\u001b[0;34m:\u001b[0m\u001b[0;34m\u001b[0m\u001b[0;34m\u001b[0m\u001b[0m\n\u001b[0m\u001b[1;32m      2\u001b[0m     \u001b[0msc_subj\u001b[0m \u001b[0;34m=\u001b[0m \u001b[0mpickle\u001b[0m\u001b[0;34m.\u001b[0m\u001b[0mload\u001b[0m\u001b[0;34m(\u001b[0m\u001b[0mf\u001b[0m\u001b[0;34m)\u001b[0m\u001b[0;34m\u001b[0m\u001b[0;34m\u001b[0m\u001b[0m\n",
      "\u001b[0;31mNameError\u001b[0m: name 'fn_str' is not defined"
     ]
    }
   ],
   "source": [
    "\n",
    "with open(fn_str, 'rb') as f:\n",
    "    sc_subj = pickle.load(f)"
   ]
  },
  {
   "cell_type": "code",
   "execution_count": null,
   "metadata": {},
   "outputs": [],
   "source": []
  }
 ],
 "metadata": {
  "kernelspec": {
   "display_name": "Python 3",
   "language": "python",
   "name": "python3"
  },
  "language_info": {
   "codemirror_mode": {
    "name": "ipython",
    "version": 3
   },
   "file_extension": ".py",
   "mimetype": "text/x-python",
   "name": "python",
   "nbconvert_exporter": "python",
   "pygments_lexer": "ipython3",
   "version": "3.7.5"
  }
 },
 "nbformat": 4,
 "nbformat_minor": 4
}
