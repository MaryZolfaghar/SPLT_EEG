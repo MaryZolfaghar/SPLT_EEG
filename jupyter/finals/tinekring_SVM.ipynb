{
 "cells": [
  {
   "cell_type": "code",
   "execution_count": 1,
   "metadata": {},
   "outputs": [],
   "source": [
    "import mne\n",
    "import numpy as np\n",
    "import matplotlib.pyplot as plt\n",
    "import pickle"
   ]
  },
  {
   "cell_type": "code",
   "execution_count": 2,
   "metadata": {},
   "outputs": [],
   "source": [
    "class arguments:\n",
    "    def __init__(self, cond_block, cond_decoding, applyBaseline_bool, mtdt_feat, occ_channels):\n",
    "        self.cond_block = cond_block #'later' #{early,later}\n",
    "        self.cond_decoding = cond_decoding #'removeevoked' #{none,removeevoked,resampled}\n",
    "        self.applyBaseline_bool = applyBaseline_bool #'False'\n",
    "        self.mtdt_feat = mtdt_feat\n",
    "        self.occ_channels = occ_channels\n",
    "        \n",
    "        self.SAVE_EPOCH_ROOT = '../../../data/version5.2/preprocessed/epochs/aft_ICA_rej/'\n",
    "        self.SAVE_RESULT_ROOT = '../../../results/temp_gen/eCortex/'\n",
    "        self.cond_filter ='none' # {none,non_symm}\n",
    "        self.cond_time = 'prestim' #{prestim,poststim}\n",
    "        self.subj_num = 1\n",
    "        self.pre_tmin = -0.4\n",
    "        self.pre_tmax = 0.05\n",
    "        self.post_tmin = 0.05\n",
    "        self.post_tmax = 0.45\n",
    "        self.num_classes = 2\n",
    "        self.normalization_type = 'normal'# {normal,lstmPaper}\n",
    "        self.gen_rand_perm = 0\n",
    "        self.null_max_iter = 10000\n",
    "        self.loop_null_iter = 5\n",
    "        self.gen_decoder_scores = 1\n",
    "        self.random_state = 42 \n",
    "        self.max_iter = 10000\n",
    "        self.n_jobs = 1\n",
    "        self.scoring = 'roc_auc'\n",
    "        self.n_splits = '_3k'\n",
    "        self.smooth_lvl = 55\n",
    "        self.occ_channels = 'True'\n",
    "        print(self.SAVE_RESULT_ROOT)"
   ]
  },
  {
   "cell_type": "code",
   "execution_count": 3,
   "metadata": {},
   "outputs": [
    {
     "name": "stdout",
     "output_type": "stream",
     "text": [
      "../../../results/temp_gen/eCortex/\n",
      "Reading ../../../data/version5.2/preprocessed/epochs/aft_ICA_rej/epochs_sec_applyBaseline_subj1-afterRejICA-epo.fif ...\n",
      "Isotrak not found\n",
      "    Read a total of 1 projection items:\n",
      "        Average EEG reference (1 x 129) active\n",
      "    Found the data of interest:\n",
      "        t =    -400.00 ...    5000.00 ms\n",
      "        0 CTF compensation matrices available\n",
      "1197 matching events found\n",
      "Applying baseline correction (mode: mean)\n",
      "Adding metadata with 16 columns\n",
      "Created an SSP operator (subspace dimension = 1)\n",
      "1 projection items activated\n",
      "Subtracting Evoked from Epochs\n",
      "[done]\n",
      "(90, 44, 213)\n"
     ]
    },
    {
     "name": "stderr",
     "output_type": "stream",
     "text": [
      "<ipython-input-3-d595401ae631>:77: RuntimeWarning: tmin is not in epochs time interval. tmin is set to epochs.tmin\n",
      "  subset= subset.crop(tmin=-0.45, tmax=0.45)\n"
     ]
    }
   ],
   "source": [
    "args = arguments('rand', 'removeevoked', 'False', 'Trgt_Loc_main', 'False' )\n",
    "\n",
    "\n",
    "if args.applyBaseline_bool:\n",
    "    filename_epoch = args.SAVE_EPOCH_ROOT + \\\n",
    "                     'epochs_sec_applyBaseline_subj%s-afterRejICA-epo.fif' \\\n",
    "                      %args.subj_num\n",
    "else:\n",
    "    filename_epoch = args.SAVE_EPOCH_ROOT + \\\n",
    "                     'epochs_sec_subj%s-afterRejICA-epo.fif' \\\n",
    "                     %args.subj_num\n",
    "epochs_orig = mne.read_epochs(filename_epoch, proj=True, preload=True,\n",
    "                              verbose=None)\n",
    "epochs = epochs_orig.copy()\n",
    "##==========================================================================\n",
    "if epochs['Block==7'].metadata.Ptrn_Type.values.shape[0]>0:\n",
    "   main_ptrn = epochs['Block==7'].metadata.Ptrn_Type.values[0]\n",
    "else:\n",
    "   main_ptrn = epochs['Block==8'].metadata.Ptrn_Type.values[0]\n",
    "##==========================================================================\n",
    "if args.cond_block=='rand':\n",
    "    subset = epochs['rand']['non'].copy()\n",
    "else:\n",
    "    subset = epochs['pred']['non'].copy()\n",
    "subset = subset.pick_types(eeg=True)\n",
    "if (args.cond_decoding=='removeevoked'):\n",
    "    # REMOVE EVOKED RESP.\n",
    "    subset.subtract_evoked()    # remove evoked response\n",
    "elif (args.cond_decoding=='resampled'):\n",
    "    # RESAMPLE\n",
    "    subset = subset.resample(args.n_resampling, npad='auto')\n",
    "else:\n",
    "    pass\n",
    "##==========================================================================\n",
    "# Select EEG channels of the back\n",
    "if args.occ_channels:\n",
    "    picks_back_brain = ['E56', 'E63', 'E68', 'E73', 'E81', 'E88', 'E94', 'E99', 'E107',\n",
    "    'E57', 'E64', 'E69', 'E74', 'E82', 'E89', 'E95', 'E100',\n",
    "    'E50', 'E58', 'E65', 'E70', 'E75', 'E83', 'E90', 'E96', 'E101',\n",
    "    'E51', 'E59', 'E66', 'E71', 'E76', 'E84', 'E91', 'E97',\n",
    "    'E52', 'E60', 'E67', 'E72', 'E77', 'E85', 'E92'\n",
    "    'E53', 'E61', 'E62', 'E78','E86'\n",
    "    ]\n",
    "    subset = subset.pick_types(eeg=True, selection=picks_back_brain)\n",
    "##==========================================================================\n",
    "if args.cond_block=='early': #block 3-6\n",
    "    subset = subset['Block<7'].copy()\n",
    "    subset = subset['Block>2'].copy()\n",
    "elif args.cond_block=='later':#block 7-10\n",
    "    subset = subset['Block<11'].copy()\n",
    "    subset = subset['Block>6'].copy()\n",
    "elif args.cond_block=='diff':\n",
    "    se = subset['Block<7'].copy() # early blocks\n",
    "    se = se['Block>2'].copy()\n",
    "    print('earlier blocks shape:\\n')\n",
    "    print(se._data.shape)\n",
    "    sl= subset['Block<11'].copy() # later blocks\n",
    "    sl = sl['Block>6'].copy()\n",
    "    print('later blocks shape:\\n')\n",
    "    print(sl._data.shape)\n",
    "    subset._data=sl._data-se._data\n",
    "elif args.cond_block=='rand':\n",
    "    subset = subset['Block<3'].copy()\n",
    "elif args.cond_block=='b3':\n",
    "    subset = subset['Block==3'].copy()\n",
    "elif args.cond_block=='b10':\n",
    "    subset = subset['Block==10'].copy()\n",
    "elif args.cond_block=='b34':\n",
    "    subset = subset['Block<5'].copy()\n",
    "    subset = subset['Block>2'].copy()\n",
    "elif args.cond_block=='b910':\n",
    "    subset = subset['Block<11'].copy()\n",
    "    subset = subset['Block>8'].copy()\n",
    "\n",
    "\n",
    "##==========================================================================\n",
    "subset= subset.crop(tmin=-0.45, tmax=0.45)\n",
    "print(subset._data.shape)\n",
    "##==========================================================================\n",
    "# Group data based on the previous trial\n",
    " # Group data based on the current main loc\n",
    "if  args.cond_block=='rand':\n",
    "    Grp1 = subset.copy()\n",
    "    Grp2 = subset.copy()\n",
    "    Grp3 = subset.copy()\n",
    "    Grp4 = subset.copy()\n",
    "    Grps_dt=[]\n",
    "    Grps_avg=[]\n",
    "    smooth_evk = [];"
   ]
  },
  {
   "cell_type": "code",
   "execution_count": 4,
   "metadata": {},
   "outputs": [],
   "source": [
    "X = subset._data.copy()\n",
    "X_2D = X.copy().mean(axis=1)\n",
    "scaler = StandardScaler()\n",
    "scaler.fit_transform(X_2D)\n",
    "Y = subset.metadata['Trgt_Loc_main'].values"
   ]
  },
  {
   "cell_type": "code",
   "execution_count": 21,
   "metadata": {},
   "outputs": [
    {
     "name": "stdout",
     "output_type": "stream",
     "text": [
      "[[0.9   2.45  0.17  3.332]\n",
      " [1.693 1.821 0.173 3.592]\n",
      " [1.165 1.93  0.049 2.552]\n",
      " [1.669 2.79  0.202 2.512]]\n",
      "              precision    recall  f1-score   support\n",
      "\n",
      "           1       0.00      0.00      0.00        11\n",
      "           2       0.22      1.00      0.36         6\n",
      "           3       0.00      0.00      0.00         2\n",
      "           4       0.00      0.00      0.00         8\n",
      "\n",
      "    accuracy                           0.22        27\n",
      "   macro avg       0.06      0.25      0.09        27\n",
      "weighted avg       0.05      0.22      0.08        27\n",
      "\n"
     ]
    },
    {
     "data": {
      "image/png": "[encoded data removed]",
      "text/plain": [
       "<Figure size 432x288 with 2 Axes>"
      ]
     },
     "metadata": {
      "needs_background": "light"
     },
     "output_type": "display_data"
    }
   ],
   "source": [
    "from sklearn.model_selection import train_test_split\n",
    "from sklearn.svm import SVC\n",
    "from sklearn.metrics import classification_report, confusion_matrix\n",
    "from sklearn.preprocessing import StandardScaler\n",
    "\n",
    "import warnings\n",
    "warnings.filterwarnings('ignore')\n",
    "\n",
    "cms=[]\n",
    "crs=[]\n",
    "for ii in range(1000):\n",
    "    x_train, x_test, y_train, y_test = train_test_split(X_2D, Y, test_size=0.3)\n",
    "    svclassifier = SVC(kernel='poly', degree=100, C=1, gamma=10, decision_function_shape='ovo', random_state=111)\n",
    "    svclassifier.fit(x_train, y_train)\n",
    "    y_pred = svclassifier.predict(x_test)\n",
    "    cms.append(confusion_matrix(y_test, y_pred))\n",
    "    crs.append(classification_report(y_test, y_pred))\n",
    "\n",
    "cm = np.mean(np.array(cms), axis=0)\n",
    "cr = crs[-1]\n",
    "\n",
    "im = plt.imshow(cm)\n",
    "plt.colorbar(im)\n",
    "plt.title('Poly kernel', fontweight='bold', fontsize=16)\n",
    "print(cm)\n",
    "print(cr)"
   ]
  },
  {
   "cell_type": "code",
   "execution_count": 22,
   "metadata": {},
   "outputs": [],
   "source": [
    "from sklearn.decomposition import PCA\n",
    "\n",
    "pca = PCA(n_components=2).fit(x_train)\n",
    "pca_2d = pca.transform(x_train)"
   ]
  },
  {
   "cell_type": "code",
   "execution_count": 23,
   "metadata": {},
   "outputs": [
    {
     "name": "stdout",
     "output_type": "stream",
     "text": [
      "-46.72787463453413 186.5653817322909\n",
      "-17.780336389181457 30.19112965683397\n",
      "-4.5727874634534135e-05\n",
      "(5, 24)\n",
      "(5, 24)\n"
     ]
    },
    {
     "data": {
      "image/png": "[encoded data removed]",
      "text/plain": [
       "<Figure size 720x720 with 1 Axes>"
      ]
     },
     "metadata": {
      "needs_background": "light"
     },
     "output_type": "display_data"
    },
    {
     "name": "stdout",
     "output_type": "stream",
     "text": [
      "[[2 2 2 2 2 2 2 2 2 2 2 2 2 2 2 2 2 2 2 2 2 2 2 2]\n",
      " [2 2 2 2 2 2 2 2 2 2 2 2 2 2 2 2 2 2 2 2 2 2 2 2]\n",
      " [2 2 2 2 2 2 2 2 2 2 2 2 2 2 2 2 2 2 2 2 2 2 2 2]\n",
      " [2 2 2 2 2 2 2 2 2 2 2 2 2 2 2 2 2 2 2 2 2 2 2 2]\n",
      " [2 2 2 2 2 2 2 2 2 2 2 2 2 2 2 2 2 2 2 2 2 2 2 2]]\n",
      "done\n"
     ]
    }
   ],
   "source": [
    "import matplotlib.pylab as pl\n",
    "\n",
    "fig= plt.figure(figsize=(10,10))\n",
    "\n",
    "for i in range(0, pca_2d.shape[0]):\n",
    "    if y_train[i] == 1:\n",
    "        c0 = pl.scatter(pca_2d[i,0],pca_2d[i,1],c='r',  marker='+')\n",
    "    elif y_train[i] == 2:\n",
    "        c1 = pl.scatter(pca_2d[i,0],pca_2d[i,1],c='g',    marker='o')\n",
    "    elif y_train[i] == 3:\n",
    "        c2 = pl.scatter(pca_2d[i,0],pca_2d[i,1],c='b',    marker='s')\n",
    "    elif y_train[i] == 4:\n",
    "        c3 = pl.scatter(pca_2d[i,0],pca_2d[i,1],c='y',    marker='p')\n",
    "        \n",
    "pl.legend([c0, c1, c2, c3], ['Loc1', 'Loc2', 'Loc3','Loc4'])\n",
    "pl.title('Training dataset with 3 classes and known outcomes')\n",
    "\n",
    "\n",
    "svclassifier_2d = SVC(kernel='linear')\n",
    "svclassifier_2d.fit(pca_2d, y_train)\n",
    "\n",
    "x_min, x_max = pca_2d[:, 0].min() * 10e5 - 1,   pca_2d[:,0].max() * 10e5 + 1\n",
    "y_min, y_max = pca_2d[:, 1].min() * 10e5 - 1,   pca_2d[:,1].max() * 10e5 + 1\n",
    "xx, yy = np.meshgrid(np.arange(x_min, x_max, 10),   np.arange(y_min, y_max, 10))\n",
    "print(x_min, x_max)\n",
    "print(y_min, y_max)\n",
    "print(pca_2d[:, 0].min())\n",
    "print(xx.shape)\n",
    "\n",
    "# print(yy.shape)\n",
    "Z = svclassifier_2d.predict(np.c_[xx.ravel(),  yy.ravel()])\n",
    "Z = Z.reshape(xx.shape)\n",
    "print(Z.shape)\n",
    "\n",
    "pl.contour(xx, yy, Z)\n",
    "pl.title('Support Vector Machine Decision Surface', fontweight='bold', fontsize=22)\n",
    "pl.axis('off')\n",
    "pl.show()\n",
    "\n",
    "\n",
    "print(Z)\n",
    "print('done')"
   ]
  },
  {
   "cell_type": "markdown",
   "metadata": {},
   "source": [
    "# Conclusion:\n",
    "for some reason, eerything looks like just one location, \n",
    "one possible reason could be non-normalized and very small data, even after I used scaler, it is still looking weird!"
   ]
  },
  {
   "cell_type": "code",
   "execution_count": null,
   "metadata": {},
   "outputs": [],
   "source": []
  }
 ],
 "metadata": {
  "kernelspec": {
   "display_name": "Python 3",
   "language": "python",
   "name": "python3"
  },
  "language_info": {
   "codemirror_mode": {
    "name": "ipython",
    "version": 3
   },
   "file_extension": ".py",
   "mimetype": "text/x-python",
   "name": "python",
   "nbconvert_exporter": "python",
   "pygments_lexer": "ipython3",
   "version": "3.7.5"
  }
 },
 "nbformat": 4,
 "nbformat_minor": 4
}
