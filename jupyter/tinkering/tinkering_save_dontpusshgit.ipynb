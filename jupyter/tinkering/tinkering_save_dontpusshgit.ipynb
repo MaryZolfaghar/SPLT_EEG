{
 "cells": [
  {
   "cell_type": "code",
   "execution_count": 7,
   "metadata": {},
   "outputs": [],
   "source": [
    "import numpy as np\n",
    "import pickle"
   ]
  },
  {
   "cell_type": "code",
   "execution_count": 8,
   "metadata": {},
   "outputs": [],
   "source": [
    "sc = np.random.rand(10, 10)\n",
    "sc_diag = np.random.rand(10)\n",
    "sc_subtract = np.random.rand(10)\n",
    "sc_pck = [sc, sc_diag, sc_subtract]\n",
    "\n",
    "rnd_sc = np.random.rand(10, 10)\n",
    "rnd_sc_diag = np.random.rand(10)\n",
    "rnd_sc_subtract = np.random.rand(10)\n",
    "rnd_sc_pck = [rnd_sc, rnd_sc_diag, rnd_sc_subtract]"
   ]
  },
  {
   "cell_type": "code",
   "execution_count": 9,
   "metadata": {},
   "outputs": [],
   "source": [
    "sc_subj_pck = [sc_pck, rnd_sc_pck]"
   ]
  },
  {
   "cell_type": "markdown",
   "metadata": {},
   "source": [
    "# Save nested list using pickle"
   ]
  },
  {
   "cell_type": "code",
   "execution_count": 10,
   "metadata": {},
   "outputs": [],
   "source": [
    "fn_str = 'sc_subj_pck'\n",
    "with open(fn_str, 'wb') as f:\n",
    "    pickle.dump(sc_subj_pck, f)"
   ]
  },
  {
   "cell_type": "markdown",
   "metadata": {},
   "source": [
    "# Load nested list using pickle"
   ]
  },
  {
   "cell_type": "code",
   "execution_count": 14,
   "metadata": {},
   "outputs": [],
   "source": [
    "with open(fn_str, 'rb') as f:\n",
    "    sc_subj = pickle.load(f)"
   ]
  }
 ],
 "metadata": {
  "kernelspec": {
   "display_name": "Python 3",
   "language": "python",
   "name": "python3"
  },
  "language_info": {
   "codemirror_mode": {
    "name": "ipython",
    "version": 3
   },
   "file_extension": ".py",
   "mimetype": "text/x-python",
   "name": "python",
   "nbconvert_exporter": "python",
   "pygments_lexer": "ipython3",
   "version": "3.6.5"
  }
 },
 "nbformat": 4,
 "nbformat_minor": 2
}
