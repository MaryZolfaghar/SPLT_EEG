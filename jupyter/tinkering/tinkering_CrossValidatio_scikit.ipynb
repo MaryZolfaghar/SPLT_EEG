{
 "cells": [
  {
   "cell_type": "code",
   "execution_count": 1,
   "metadata": {},
   "outputs": [],
   "source": [
    "from sklearn.model_selection import (TimeSeriesSplit, KFold, ShuffleSplit,\n",
    "                                     StratifiedKFold, GroupShuffleSplit,\n",
    "                                     GroupKFold, StratifiedShuffleSplit)\n",
    "import numpy as np\n",
    "import matplotlib.pyplot as plt\n",
    "from matplotlib.patches import Patch"
   ]
  },
  {
   "cell_type": "markdown",
   "metadata": {},
   "source": [
    "# Visualize the data\n",
    "\n",
    "https://scikit-learn.org/stable/auto_examples/model_selection/plot_cv_indices.html#sphx-glr-auto-examples-model-selection-plot-cv-indices-py"
   ]
  },
  {
   "cell_type": "code",
   "execution_count": 7,
   "metadata": {},
   "outputs": [],
   "source": [
    "def visualize_groups(classes, groups, name):\n",
    "    # Visualize dataset groups\n",
    "    fig, ax = plt.subplots()\n",
    "    ax.scatter(range(len(groups)),  [.5] * len(groups), c=groups, marker='_',\n",
    "               lw=50, cmap=cmap_data)\n",
    "    ax.scatter(range(len(groups)),  [3.5] * len(groups), c=classes, marker='_',\n",
    "               lw=50, cmap=cmap_data)\n",
    "    ax.set(ylim=[-1, 5], yticks=[.5, 3.5],\n",
    "           yticklabels=['Data\\ngroup', 'Data\\nclass'], xlabel=\"Sample index\")"
   ]
  },
  {
   "cell_type": "code",
   "execution_count": 2,
   "metadata": {},
   "outputs": [],
   "source": [
    "np.random.seed(1338)\n",
    "cmap_data = plt.cm.Paired\n",
    "cmap_cv = plt.cm.coolwarm\n",
    "n_splits = 4"
   ]
  },
  {
   "cell_type": "code",
   "execution_count": 3,
   "metadata": {},
   "outputs": [],
   "source": [
    "# Generate the class/group data\n",
    "n_points = 100\n",
    "X = np.random.randn(100, 10)\n",
    "\n",
    "percentiles_classes = [.1, .3, .6]\n",
    "y = np.hstack([[ii] * int(100 * perc)\n",
    "               for ii, perc in enumerate(percentiles_classes)])\n",
    "\n",
    "# Evenly spaced groups repeated once\n",
    "groups = np.hstack([[ii] * 10 for ii in range(10)])"
   ]
  },
  {
   "cell_type": "code",
   "execution_count": 6,
   "metadata": {},
   "outputs": [
    {
     "name": "stdout",
     "output_type": "stream",
     "text": [
      "[[ 3.03395718e-01  6.90528873e-02 -1.36994721e+00 -1.73542443e+00\n",
      "   9.20389861e-01 -6.73285587e-01  3.11302776e-01  1.65990867e+00\n",
      "  -3.89927311e-01  2.46704222e-01]\n",
      " [ 1.26286911e+00 -7.14321172e-02  2.17658193e-01 -1.03871059e+00\n",
      "  -5.77300027e-01  2.25155466e-01 -1.11415101e+00 -2.12117675e-01\n",
      "  -1.16819684e-01 -2.32432838e-01]\n",
      " [ 1.01017204e+00 -1.52260114e+00 -3.89918857e-02 -4.95300601e-01\n",
      "  -1.26511675e+00  1.30947599e+00 -4.80749816e-02  6.58444455e-01\n",
      "   1.17818292e+00  9.24792733e-01]\n",
      " [-1.36163296e-01 -4.32713883e-01 -1.41218241e+00 -1.72601721e+00\n",
      "  -1.27447583e-01  1.36070897e+00  1.80491419e+00 -8.31119097e-01\n",
      "  -7.52473051e-01 -8.67474528e-01]\n",
      " [-1.09877395e+00 -1.58595929e-02  1.76340557e+00 -1.09515150e+00\n",
      "   6.57601573e-01  8.53469564e-01 -1.34077646e+00  1.25792539e+00\n",
      "   1.40744721e+00 -1.92822233e+00]\n",
      " [ 3.40339991e-01 -8.22247630e-01  9.87011426e-01 -4.05166630e-01\n",
      "  -4.70118415e-01 -4.95036568e-01 -3.81351888e-01  1.40006141e-01\n",
      "  -9.96311563e-01  4.71250057e-01]\n",
      " [ 2.65070329e-01 -5.99880336e-01 -8.50170243e-01 -9.00831854e-02\n",
      "  -1.01665562e+00  1.84062477e-01  5.48070337e-02 -1.63791802e+00\n",
      "   1.10961113e-01  5.60193259e-02]\n",
      " [ 6.36578978e-01 -3.46417660e-03 -1.22437166e+00 -9.54322244e-01\n",
      "   1.00289004e+00 -6.40407722e-01  1.21203893e+00  2.65044814e-02\n",
      "   6.72638624e-01  5.76650667e-01]\n",
      " [ 5.55065167e-01  8.52287768e-01  1.46746865e+00  1.74138363e+00\n",
      "  -2.23276321e-01  3.66816849e-01 -6.25825444e-01 -6.07246764e-01\n",
      "  -4.99074712e-01  1.71183515e+00]\n",
      " [ 1.88571085e-01 -1.20971561e-01 -2.16263810e+00  4.93751175e-01\n",
      "   5.34750724e-03  1.06167235e+00  1.72439431e+00 -6.37094896e-02\n",
      "  -2.12721028e+00  1.82820997e+00]\n",
      " [ 8.02781857e-01  1.04091917e+00  8.44987586e-01  3.51972752e-02\n",
      "  -5.15322736e-01 -2.32596242e-01 -9.63145041e-01  8.22437448e-01\n",
      "   1.65713732e+00  4.22060333e-01]\n",
      " [-1.27554836e+00 -5.24965108e-02 -3.32113798e-01 -4.18321863e-01\n",
      "  -3.70109071e-01 -1.98691525e-01  1.37625636e+00  8.07707822e-01\n",
      "   5.55962021e-02  6.80380534e-01]\n",
      " [-6.87277048e-01  1.09141132e+00 -1.55942155e-01 -7.41910201e-01\n",
      "  -4.83408757e-01  1.65983193e+00 -1.90133558e+00  1.68576614e+00\n",
      "   1.35909721e+00  2.46982418e-01]\n",
      " [ 7.14684109e-01  1.05393243e+00  1.88309781e+00  1.06876378e+00\n",
      "   3.39249982e-01 -1.79550677e+00 -1.17503741e+00  1.63710539e-01\n",
      "   3.95020751e-01  5.59655296e-01]\n",
      " [-6.44735886e-01 -2.22858947e+00  5.44889795e-01  2.73517497e-02\n",
      "  -1.43986081e+00  2.91458138e+00 -1.92658373e-01  9.08001603e-01\n",
      "  -3.27996328e-01 -7.40463079e-01]\n",
      " [ 5.18086979e-02  1.26203673e+00 -7.36231653e-01  1.73851697e-02\n",
      "  -1.53485521e+00  3.58593574e-01  2.95606118e-01  1.02191482e+00\n",
      "   3.97575358e-01  1.11651639e-01]\n",
      " [-3.38791102e-01  7.52782567e-01 -7.96519543e-01 -9.58645081e-01\n",
      "   1.11602413e+00 -1.20035685e+00  1.35254547e+00  2.60976812e-01\n",
      "   6.16040262e-01 -2.04814798e+00]\n",
      " [ 7.44743028e-01 -1.56092537e+00  1.15780376e+00  9.27818918e-01\n",
      "   7.55295950e-01  1.60101720e+00 -8.11255502e-01  5.31032497e-01\n",
      "   9.09272270e-01  7.88107282e-01]\n",
      " [ 1.57726673e-01  1.03815752e+00  3.87240140e-01  1.06897764e+00\n",
      "   1.60998030e+00 -1.29193068e+00  1.46113715e+00 -1.72645618e-01\n",
      "   2.88831356e-01 -5.11961155e-01]\n",
      " [ 4.57236218e-01  4.15862633e-01  1.02497437e+00 -8.56187483e-01\n",
      "  -5.21598554e-01 -8.04198824e-01  2.41419096e-01  6.21125764e-01\n",
      "  -1.07153281e+00  1.02216701e+00]\n",
      " [ 1.72656907e-01 -9.99081230e-01 -2.18370567e+00 -4.08342038e-01\n",
      "   1.10642916e+00  4.58489570e-01 -2.79826638e-01  6.86615720e-01\n",
      "  -4.77270763e-01 -5.25638666e-01]\n",
      " [ 1.29159632e+00  1.73475401e+00 -2.69902169e-01  3.08534965e-01\n",
      "   4.62585558e-01 -1.89189992e-01 -2.72810692e-01 -5.40836382e-01\n",
      "  -9.62176669e-01 -9.31975492e-02]\n",
      " [ 3.27765944e-01  7.24969092e-01  9.99773865e-02  1.65350922e+00\n",
      "   4.68739027e-02 -8.55749478e-01  2.11227227e-01  4.53363275e-01\n",
      "  -2.82361868e-01 -1.12425295e+00]\n",
      " [-9.39269655e-01  4.10499898e-01  4.70509042e-01 -4.83353438e-01\n",
      "  -2.81768571e-01  1.81183313e-01 -1.41058367e+00  1.51469491e+00\n",
      "   2.87046229e-01 -6.37820932e-01]\n",
      " [ 5.75186185e-01  9.23234266e-01 -1.70490448e-01 -1.65732731e+00\n",
      "   2.89228327e-01 -1.36977927e+00  6.16645072e-01 -2.05892759e+00\n",
      "  -2.04011124e+00  1.27011797e+00]\n",
      " [-7.88893373e-01 -4.88577108e-01 -1.47059694e+00  2.77855576e-01\n",
      "   1.23167467e+00  4.06101387e-01  9.94913487e-01  8.11013065e-03\n",
      "  -1.03814655e+00 -3.38831851e-01]\n",
      " [ 7.19638837e-01  1.40673394e+00  1.55479064e-01 -5.55824508e-01\n",
      "  -9.34243244e-01  2.23685898e-01  5.48821471e-01 -6.11010942e-01\n",
      "   9.02563647e-01 -2.70245344e-01]\n",
      " [ 1.66146037e-01  2.06202152e+00  6.00494142e-01  5.38874881e-01\n",
      "  -7.31711181e-01 -1.03680116e+00 -1.40804572e+00 -9.80549973e-01\n",
      "  -1.84151734e+00 -1.31413786e+00]\n",
      " [-8.08612243e-01 -1.34843730e+00 -1.81563571e+00  2.02668734e+00\n",
      "   1.47876871e+00 -3.42009392e-01 -2.66274189e-01  1.18407804e-01\n",
      "   2.09388632e+00 -6.24009744e-01]\n",
      " [ 8.78391172e-01 -4.68793272e-01 -1.09232876e+00 -7.56271785e-02\n",
      "   4.89264456e-01 -1.79327795e+00 -3.35008844e-02  6.88331181e-01\n",
      "  -1.71889025e+00 -6.50123500e-01]\n",
      " [ 1.45171874e-01  3.40814402e-01 -6.84366882e-01  2.08841358e-01\n",
      "  -5.73063174e-01  9.79742727e-01 -2.35909535e+00  1.05903550e+00\n",
      "  -5.76138155e-01  2.46159070e-01]\n",
      " [ 1.73759836e+00 -3.31824004e-01 -2.51756449e-01  3.40779173e-01\n",
      "   1.64440453e+00 -6.53586221e-01 -2.12972144e-01 -3.78159614e-03\n",
      "   3.11504823e-01  1.65671177e+00]\n",
      " [-3.70390482e-01  1.41914164e+00 -7.55349728e-01 -1.06080596e-01\n",
      "   3.57753366e-01  4.64230203e-01  1.31523824e+00 -5.16535150e-01\n",
      "   1.15913505e+00 -1.13281851e-01]\n",
      " [ 2.52815414e-01  2.40717319e+00  1.47758386e+00  1.12202052e+00\n",
      "   1.07098004e+00 -3.58412383e-02 -6.73215932e-01  1.91143021e+00\n",
      "  -2.30579217e-01  1.22344446e+00]\n",
      " [-8.23190702e-01  1.99148024e-01 -1.91220180e-01 -7.85944164e-02\n",
      "   9.08583949e-01 -1.50080801e+00 -6.97784507e-01 -1.15857756e-01\n",
      "   1.58992687e+00  2.13634315e-02]\n",
      " [-1.19386849e+00 -4.60675634e-01  3.07403126e-01  8.18164642e-01\n",
      "  -8.77992886e-01  1.00287425e+00  2.88933889e-01 -1.81304635e-01\n",
      "  -5.63880388e-01  6.16358973e-01]\n",
      " [ 1.00650292e+00 -1.24658198e+00  1.18672747e+00 -2.03062031e-02\n",
      "   2.12560264e+00  1.45492777e+00 -7.62210482e-02  9.21934286e-01\n",
      "   1.20308744e+00 -4.83932231e-01]\n",
      " [ 8.73898864e-01  6.62182993e-01  1.15027071e+00 -4.36324595e-02\n",
      "  -1.36145418e+00 -5.54176033e-02 -7.55447682e-01 -1.12561705e+00\n",
      "  -6.18433971e-01  2.29014745e-01]\n",
      " [-8.12705080e-03  3.49822998e-02 -2.41459913e-01  5.16846571e-02\n",
      "  -2.83457169e-02 -7.53561075e-01  3.07045177e-01 -1.81798171e+00\n",
      "  -2.22042184e-01 -2.97732050e-01]\n",
      " [-1.57352282e+00 -1.45440643e+00 -4.40552149e-03  2.25243859e-01\n",
      "  -2.53897278e-01 -2.20879754e-01  1.06573211e+00  3.62713363e+00\n",
      "  -4.71315304e-01 -3.33939141e-01]\n",
      " [-2.64252779e-01  8.74549809e-01  2.76791400e-01 -1.08665828e+00\n",
      "  -6.55623520e-01 -1.10536807e+00 -1.73069702e-01 -6.58509038e-01\n",
      "  -5.63094646e-01  1.10575311e+00]\n",
      " [-1.34845261e+00 -5.86333540e-01  1.89880849e-01  6.89169065e-01\n",
      "   1.62263241e+00 -1.69506345e+00  9.47487046e-01  1.74318963e+00\n",
      "  -8.17573544e-01  5.50127376e-01]\n",
      " [ 1.92839573e+00  3.03219927e-01 -6.12894677e-01  9.45110800e-02\n",
      "   1.85001932e-01  1.83605660e+00 -7.06121233e-01  1.01738672e+00\n",
      "   9.93070075e-01 -9.93019098e-02]\n",
      " [-5.36358675e-01 -3.22555614e-02 -4.23275374e-01  4.12680681e-01\n",
      "   1.98452480e-01  6.00231499e-01 -1.18417220e-01  2.75649143e-01\n",
      "   2.73394856e+00 -1.05796344e+00]\n",
      " [-4.57187883e-01 -1.80484296e+00 -1.02467369e-01  1.80246153e-01\n",
      "   3.48737777e-01 -3.49975441e-01  2.52515295e-01  1.41195783e+00\n",
      "  -5.17453326e-01 -8.37853901e-01]\n",
      " [-3.65192761e-01  5.76819671e-01  2.34398016e-01 -3.98342727e-01\n",
      "  -6.93258490e-01  1.29556914e+00  9.00338991e-01 -1.63062898e-01\n",
      "  -5.36011635e-01 -2.28203469e-02]\n",
      " [ 1.41666282e-01  1.05595365e+00  3.88365961e-01 -2.81483027e+00\n",
      "  -1.09415724e+00  7.53963465e-01  5.04438645e-01 -6.47054544e-01\n",
      "  -1.12313176e-01 -6.33133051e-01]\n",
      " [-1.26724661e-01 -7.43556780e-01 -9.52823408e-01  3.47780776e-01\n",
      "   8.72323061e-01  1.47595053e+00  1.13313258e+00  2.14533646e+00\n",
      "  -2.14648025e+00  1.19086525e-01]\n",
      " [-6.53678117e-01  8.75781850e-01  3.78260152e-01  1.29412087e-01\n",
      "   1.37876014e-01  1.08825278e-01 -1.18193699e-01  1.28008188e+00\n",
      "  -1.60730060e+00 -2.87380887e-01]\n",
      " [-1.64058804e+00  5.99129177e-01  4.14867314e-01 -3.09727741e-01\n",
      "   3.70247245e-01  7.66650323e-01  6.38779264e-01  3.50912086e-01\n",
      "  -2.74113839e-01 -2.32848432e-01]\n",
      " [-7.79810444e-02  2.24826716e+00  6.89845864e-03 -3.16818763e-01\n",
      "  -3.70784688e-02  9.60332440e-01 -4.11680001e-01  1.12275642e+00\n",
      "  -3.29898071e-02  1.92558631e-01]\n",
      " [-2.80079006e+00  6.99159367e-01  2.12968299e+00 -3.79780190e-01\n",
      "   3.13213966e-01 -1.00899922e+00 -6.86950370e-01 -1.13823206e+00\n",
      "  -1.58984932e+00 -1.37005957e+00]\n",
      " [-6.88381200e-01  5.62570362e-01 -1.46549879e+00 -1.89003713e+00\n",
      "  -2.62272799e-01  9.70840726e-01  2.81562171e-01  8.63453751e-01\n",
      "  -4.85828001e-01 -3.14444706e-01]\n",
      " [ 1.49207581e+00  8.28282462e-01  1.07684646e+00  1.37042781e+00\n",
      "  -3.08865089e-01  2.01554240e-01 -7.11645795e-01  2.91783672e-01\n",
      "   4.70263876e-01  9.09482843e-02]\n",
      " [ 4.55237126e-01  1.45310642e+00 -9.12451198e-01 -7.19335056e-01\n",
      "  -6.13934918e-01 -2.55292698e-01 -1.93749558e-02  6.93710091e-01\n",
      "   5.46811472e-01  1.01046806e+00]\n",
      " [ 5.27664952e-01  9.03986835e-01  5.99840135e-02 -1.20638036e-01\n",
      "  -2.87090364e+00  9.30976425e-01  8.20023559e-02 -8.50376667e-02\n",
      "  -1.15525309e+00 -7.61682457e-01]\n",
      " [-2.05649696e+00  1.11552509e-02 -4.70885693e-01 -4.02475674e-01\n",
      "  -3.99114314e-01 -5.59309170e-01 -1.34301738e-01 -4.65454962e-01\n",
      "  -1.06066614e+00  1.53797483e-01]\n",
      " [ 5.97987758e-01  1.81627689e+00 -1.21564038e+00  1.29826926e+00\n",
      "   1.80580001e+00 -1.22416384e+00  1.73369693e+00 -3.04949915e+00\n",
      "  -4.14640817e-01 -9.22683343e-01]\n",
      " [ 8.88116200e-02 -2.53489460e+00  1.08255164e+00 -1.38867866e+00\n",
      "   2.46314036e-01 -1.06481511e-01  1.04116605e+00 -1.90411151e+00\n",
      "   5.87634781e-01  1.20261477e+00]\n",
      " [-2.13975764e+00 -4.83079072e-01 -2.10069616e+00 -6.72528980e-01\n",
      "  -1.36327319e-02 -1.85329815e+00  5.54709355e-01 -1.89377025e+00\n",
      "  -1.27834713e+00 -1.09814535e+00]\n",
      " [ 7.01455209e-01 -4.35450103e-01 -1.46311941e-01  3.59023262e-01\n",
      "   1.62535148e+00  7.59405252e-01  9.70312699e-01  9.67163024e-01\n",
      "  -1.18775161e+00  1.02689954e+00]\n",
      " [ 5.59496344e-01 -6.05040290e-01 -2.93815219e-01  5.38369774e-01\n",
      "  -3.05092020e-02 -2.76349629e-01 -2.40481856e-01 -3.34848787e-01\n",
      "  -8.69816033e-01 -6.90859333e-01]\n",
      " [-7.27710498e-01 -2.22671565e+00 -1.04606802e+00 -6.68900454e-01\n",
      "   4.96740977e-01 -3.34220941e-01  2.83091789e-01  1.70095389e+00\n",
      "   9.89988032e-01 -1.96726285e+00]\n",
      " [-7.68494934e-01  1.93506482e+00 -3.92288820e-01 -2.77827979e-03\n",
      "   7.49366478e-01  1.65120382e-01 -7.12437872e-01 -1.64991578e+00\n",
      "   1.18971003e-01 -4.50844574e-01]\n",
      " [-1.01889799e+00 -6.77235653e-01  8.47157364e-01 -1.00223289e+00\n",
      "  -1.82290463e+00  3.15494967e-01  1.76639075e+00 -9.58270328e-01\n",
      "   1.33217550e+00 -3.03923556e-01]\n",
      " [ 1.88495483e-01  1.00925443e+00 -1.52687058e-01 -1.12040722e+00\n",
      "   3.28711587e+00 -2.82110729e-01  8.05596760e-01  1.54905533e+00\n",
      "   9.94326482e-01 -3.23151798e-01]\n",
      " [ 3.74858794e-01 -1.02391729e+00 -5.01208454e-01 -2.38928890e+00\n",
      "   3.29860355e-01 -6.74791784e-03 -7.71903290e-01  1.60790444e+00\n",
      "   6.53903324e-01 -5.96520884e-01]\n",
      " [-9.19732953e-01 -8.27995162e-01 -2.80165313e-01  9.82935721e-02\n",
      "   1.00797910e+00  1.37464847e+00  1.91468838e-01 -5.85312663e-02\n",
      "  -1.17957825e+00  1.05334872e+00]\n",
      " [-3.02451590e-01  6.83585765e-01  1.42372508e+00  1.60874297e+00\n",
      "  -1.20099679e+00  1.67237776e+00 -1.36905493e+00  2.84073717e+00\n",
      "   4.84314169e-02  1.07349117e-01]\n",
      " [-1.34639876e+00  8.53504323e-01  1.28464109e+00 -8.41778074e-01\n",
      "   1.02607202e+00 -8.25142914e-01  4.81753993e-01 -1.07356898e+00\n",
      "  -9.09845295e-02  6.24851123e-01]\n",
      " [-9.85433835e-01  1.79578951e+00 -1.03089796e+00 -6.43330150e-01\n",
      "  -8.43710110e-01 -6.77711380e-01 -8.86007458e-01 -4.64202249e-01\n",
      "  -5.92990140e-01  2.69534881e-01]\n",
      " [-4.63067271e-01  9.63370138e-02 -2.93748852e-02 -3.71325377e-01\n",
      "  -9.23100957e-02 -6.45049336e-01 -1.33024841e+00 -2.45533748e+00\n",
      "   1.14765593e+00 -1.75040613e+00]\n",
      " [-1.14279141e-01  1.43604639e-01 -2.46578539e+00  2.41723455e+00\n",
      "  -3.72294066e-01 -8.70510919e-01  2.07717272e-01 -1.36577481e-01\n",
      "  -8.55818832e-02 -1.41447863e-01]\n",
      " [-2.46244263e+00 -1.64074225e-01  6.71572197e-01 -1.56305480e+00\n",
      "  -3.96681614e-01 -7.50833833e-01 -6.37982368e-01 -7.24655401e-01\n",
      "  -4.49215104e-01  2.68725922e-01]\n",
      " [-1.11467399e+00 -1.84297439e+00 -1.44277964e+00 -8.75643657e-01\n",
      "   5.26407982e-01 -6.16977961e-02  6.89721829e-01 -1.51319590e+00\n",
      "   8.12098982e-01  1.58167214e+00]\n",
      " [ 9.00955314e-01  2.92702984e-01  1.75809253e-01  3.88056662e-01\n",
      "   1.35283683e+00  6.51157807e-01 -9.45448179e-01 -5.97087247e-01\n",
      "   1.51205460e+00  2.59411592e-01]\n",
      " [-9.58686968e-01 -1.42946713e+00 -2.76070885e+00 -1.35337739e+00\n",
      "  -1.55807098e+00  5.61845015e-01 -2.15069944e+00  1.34310912e-01\n",
      "  -6.47514775e-01 -5.83161756e-01]\n",
      " [-1.46261750e+00 -4.93036527e-01  8.29547530e-01  2.44312693e+00\n",
      "   1.01069861e-01 -3.68560074e-01 -5.39272580e-01 -1.49310883e+00\n",
      "   1.23421224e+00  1.80953730e-01]\n",
      " [-7.60253246e-01  7.96123462e-01 -6.24841598e-01 -6.94299049e-01\n",
      "  -1.05456066e-01  8.65616496e-01 -2.53540391e-01 -1.34859178e+00\n",
      "  -1.15584769e+00 -3.61452790e-01]\n",
      " [-4.70024652e-01  2.77891896e-01  4.07613203e-01  9.78610100e-01\n",
      "   7.81632676e-01 -1.28361667e+00 -3.40649909e-01 -5.07547946e-01\n",
      "  -6.73191372e-01  5.42931568e-01]\n",
      " [ 9.91514038e-01  5.77436685e-01 -1.63624055e+00 -8.17399191e-01\n",
      "  -1.84265868e+00 -2.17945744e+00  6.93427448e-01  7.55170062e-01\n",
      "  -8.13110476e-02  6.07455310e-01]\n",
      " [ 1.51971247e+00  1.14785444e+00 -2.94205099e-01  6.23042730e-01\n",
      "   1.63995131e+00  5.33323872e-01 -5.19192191e-01 -7.86711492e-01\n",
      "   5.40488573e-01 -1.00771529e-01]\n",
      " [ 1.81284048e-01  1.35890366e+00 -6.97790829e-01 -9.00868312e-01\n",
      "  -1.32618400e+00 -3.88177678e-01  2.23669153e-02 -6.42849277e-01\n",
      "  -7.04054733e-01 -1.53793409e+00]\n",
      " [-3.09551246e-01  5.44088770e-01 -3.42343473e-01  1.73683449e+00\n",
      "  -1.54517503e+00  1.01924254e+00 -2.69515515e-01  2.18863950e+00\n",
      "   6.65334802e-01 -5.92511253e-01]\n",
      " [ 7.75751788e-01 -5.04061069e-01 -2.78264633e-01 -1.95622779e+00\n",
      "  -5.72646585e-01 -1.14230088e+00  1.40789228e+00 -6.84852651e-01\n",
      "   6.61956382e-01  1.87110856e+00]\n",
      " [ 1.62858767e+00  4.27894009e-01 -1.25404309e+00  1.52521821e-01\n",
      "   6.82901617e-01  4.57715869e-01  1.11401201e+00 -1.75616742e-01\n",
      "   9.68099323e-02 -2.64402825e-01]\n",
      " [-1.04982435e+00  3.54702939e-01 -7.02368142e-01  6.68689578e-01\n",
      "   7.94525076e-01 -2.18095626e-01  3.73869957e-01  3.63638411e-01\n",
      "  -2.72789674e-01  4.06238483e-01]\n",
      " [ 1.85752901e-01 -2.39443633e-01  5.58118384e-01 -1.04314487e+00\n",
      "   9.84454885e-01 -9.47877401e-01 -3.78217494e-01 -1.36936846e+00\n",
      "   3.97057147e-01 -1.44993207e+00]\n",
      " [ 1.93244634e-01  8.22145373e-01  1.02374137e+00 -2.06317202e+00\n",
      "   1.40535236e+00 -8.22140038e-01 -1.06174827e-01  6.08999694e-01\n",
      "  -7.61622942e-01  1.19662466e+00]\n",
      " [ 2.58288879e-01  1.57695366e+00 -1.35020038e-01 -2.41009389e-01\n",
      "   8.74552309e-01  1.49051752e+00 -3.07014910e-01 -3.25678656e-01\n",
      "  -5.61946506e-01 -7.38855167e-01]\n",
      " [ 2.07567549e-01 -6.80049378e-01  2.11654154e-01 -1.63123197e+00\n",
      "   7.28111173e-01  7.45048967e-01 -5.88104506e-01  2.90284398e-01\n",
      "  -7.36729201e-01 -3.24139838e-01]\n",
      " [ 3.26834647e-01  4.17022744e-01 -7.37911293e-02 -7.41284482e-01\n",
      "  -6.69647773e-01  1.03195743e+00 -6.81033271e-01 -1.76366191e-01\n",
      "   1.93851961e+00  1.10570616e+00]\n",
      " [ 1.71617352e-02  7.33877279e-01 -9.44769654e-01 -1.01569797e+00\n",
      "  -1.88134470e-01  9.66400580e-01 -1.62199094e+00  8.87661889e-01\n",
      "  -2.23203787e-01 -1.97966735e-01]\n",
      " [-1.67165480e-02  2.76193678e-01 -1.07149470e+00 -4.78455418e-01\n",
      "  -2.73188994e+00 -1.07679382e+00  5.88378233e-02  2.77150652e-01\n",
      "  -1.67682005e+00 -3.43589229e-01]\n",
      " [ 1.14872277e+00 -5.76208529e-01  1.37648820e-03  8.41494401e-02\n",
      "  -9.52125147e-01  6.34033318e-01 -3.88147553e-01  1.80721905e-01\n",
      "  -3.33050041e-01  4.20645898e-01]\n",
      " [-1.03509105e+00  1.96617336e-02 -2.73301457e-01  7.91964777e-02\n",
      "  -1.58022047e+00 -1.82210289e+00  1.63736418e-01 -4.24510718e-01\n",
      "   2.06488734e+00  1.31160175e+00]\n",
      " [ 5.66176220e-01  1.89311754e-01 -9.58000648e-02  9.66878394e-02\n",
      "   1.12232435e+00 -1.54205532e-01  5.57449018e-01  8.92205340e-01\n",
      "   5.81462346e-01 -1.15548702e+00]\n",
      " [ 1.00852707e+00  3.67837766e-01  7.29328188e-01  6.15983593e-01\n",
      "  -1.47851798e-01 -4.63429643e-02  9.94735339e-01 -4.73196196e-01\n",
      "  -1.43318433e+00  2.61018504e-01]\n",
      " [-2.67556339e-01  1.77049191e+00 -1.44400339e+00  2.96775446e-01\n",
      "   1.62007980e+00 -7.27747519e-01 -1.44734876e+00  6.77790409e-02\n",
      "  -6.91966662e-01  4.45997812e-01]\n",
      " [-7.76112502e-01  1.16089849e+00  7.34243370e-01  8.00522434e-01\n",
      "   9.47409463e-01  7.85772939e-01  6.50700121e-01  1.40036727e+00\n",
      "   3.26067889e-02 -1.85839775e+00]]\n",
      "(100, 10)\n",
      "------------\n",
      "[0 0 0 0 0 0 0 0 0 0 1 1 1 1 1 1 1 1 1 1 1 1 1 1 1 1 1 1 1 1 1 1 1 1 1 1 1\n",
      " 1 1 1 2 2 2 2 2 2 2 2 2 2 2 2 2 2 2 2 2 2 2 2 2 2 2 2 2 2 2 2 2 2 2 2 2 2\n",
      " 2 2 2 2 2 2 2 2 2 2 2 2 2 2 2 2 2 2 2 2 2 2 2 2 2 2]\n",
      "(100,)\n",
      "------------\n",
      "[0 0 0 0 0 0 0 0 0 0 1 1 1 1 1 1 1 1 1 1 2 2 2 2 2 2 2 2 2 2 3 3 3 3 3 3 3\n",
      " 3 3 3 4 4 4 4 4 4 4 4 4 4 5 5 5 5 5 5 5 5 5 5 6 6 6 6 6 6 6 6 6 6 7 7 7 7\n",
      " 7 7 7 7 7 7 8 8 8 8 8 8 8 8 8 8 9 9 9 9 9 9 9 9 9 9]\n",
      "(100,)\n"
     ]
    }
   ],
   "source": [
    "print(X) # random numbers\n",
    "print(X.shape) #(100, 10)\n",
    "print('------------')\n",
    "print(y) # 0 1 2 \n",
    "print(y.shape) # (100,)\n",
    "print('------------')\n",
    "print(groups) 0 1 2 3 4 5 6 7 8 9\n",
    "print(groups.shape) (100,)"
   ]
  },
  {
   "cell_type": "code",
   "execution_count": 8,
   "metadata": {},
   "outputs": [
    {
     "data": {
      "image/png": "[encoded data removed]",
      "text/plain": [
       "<Figure size 432x288 with 1 Axes>"
      ]
     },
     "metadata": {},
     "output_type": "display_data"
    }
   ],
   "source": [
    "visualize_groups(y, groups, 'no groups')"
   ]
  },
  {
   "cell_type": "markdown",
   "metadata": {},
   "source": [
    "# Visualize cross validation behavior"
   ]
  },
  {
   "cell_type": "code",
   "execution_count": 9,
   "metadata": {},
   "outputs": [],
   "source": [
    "def plot_cv_indices(cv, X, y, group, ax, n_splits, lw=10):\n",
    "    \"\"\"Create a sample plot for indices of a cross-validation object.\"\"\"\n",
    "\n",
    "    # Generate the training/testing visualizations for each CV split\n",
    "    for ii, (tr, tt) in enumerate(cv.split(X=X, y=y, groups=group)):\n",
    "        # Fill in indices with the training/test groups\n",
    "        indices = np.array([np.nan] * len(X))\n",
    "        indices[tt] = 1\n",
    "        indices[tr] = 0\n",
    "\n",
    "        # Visualize the results\n",
    "        ax.scatter(range(len(indices)), [ii + .5] * len(indices),\n",
    "                   c=indices, marker='_', lw=lw, cmap=cmap_cv,\n",
    "                   vmin=-.2, vmax=1.2)\n",
    "\n",
    "    # Plot the data classes and groups at the end\n",
    "    ax.scatter(range(len(X)), [ii + 1.5] * len(X),\n",
    "               c=y, marker='_', lw=lw, cmap=cmap_data)\n",
    "\n",
    "    ax.scatter(range(len(X)), [ii + 2.5] * len(X),\n",
    "               c=group, marker='_', lw=lw, cmap=cmap_data)\n",
    "\n",
    "    # Formatting\n",
    "    yticklabels = list(range(n_splits)) + ['class', 'group']\n",
    "    ax.set(yticks=np.arange(n_splits+2) + .5, yticklabels=yticklabels,\n",
    "           xlabel='Sample index', ylabel=\"CV iteration\",\n",
    "           ylim=[n_splits+2.2, -.2], xlim=[0, 100])\n",
    "    ax.set_title('{}'.format(type(cv).__name__), fontsize=15)\n",
    "    return ax"
   ]
  },
  {
   "cell_type": "markdown",
   "metadata": {},
   "source": [
    "## visualizing Stratified shuffle split \n",
    "### We will use this mehtod for our EEG analysis"
   ]
  },
  {
   "cell_type": "code",
   "execution_count": 12,
   "metadata": {},
   "outputs": [
    {
     "data": {
      "text/plain": [
       "<matplotlib.axes._subplots.AxesSubplot at 0x1a1e852320>"
      ]
     },
     "execution_count": 12,
     "metadata": {},
     "output_type": "execute_result"
    },
    {
     "data": {
      "image/png": "[encoded data removed]",
      "text/plain": [
       "<Figure size 432x288 with 1 Axes>"
      ]
     },
     "metadata": {},
     "output_type": "display_data"
    }
   ],
   "source": [
    "fig, ax = plt.subplots()\n",
    "cv = StratifiedShuffleSplit(n_splits)\n",
    "plot_cv_indices(cv, X, y, groups, ax, n_splits)"
   ]
  },
  {
   "cell_type": "markdown",
   "metadata": {},
   "source": [
    "## visualizing some cross val methods"
   ]
  },
  {
   "cell_type": "code",
   "execution_count": 10,
   "metadata": {},
   "outputs": [],
   "source": [
    "cvs = [KFold, GroupKFold, ShuffleSplit, StratifiedKFold,\n",
    "       GroupShuffleSplit, StratifiedShuffleSplit, TimeSeriesSplit]\n"
   ]
  },
  {
   "cell_type": "code",
   "execution_count": 11,
   "metadata": {},
   "outputs": [
    {
     "data": {
      "image/png": "[encoded data removed]",
      "text/plain": [
       "<Figure size 432x216 with 1 Axes>"
      ]
     },
     "metadata": {},
     "output_type": "display_data"
    },
    {
     "data": {
      "image/png": "[encoded data removed]",
      "text/plain": [
       "<Figure size 432x216 with 1 Axes>"
      ]
     },
     "metadata": {},
     "output_type": "display_data"
    },
    {
     "data": {
      "image/png": "[encoded data removed]",
      "text/plain": [
       "<Figure size 432x216 with 1 Axes>"
      ]
     },
     "metadata": {},
     "output_type": "display_data"
    },
    {
     "data": {
      "image/png": "[encoded data removed]",
      "text/plain": [
       "<Figure size 432x216 with 1 Axes>"
      ]
     },
     "metadata": {},
     "output_type": "display_data"
    },
    {
     "data": {
      "image/png": "[encoded data removed]",
      "text/plain": [
       "<Figure size 432x216 with 1 Axes>"
      ]
     },
     "metadata": {},
     "output_type": "display_data"
    },
    {
     "data": {
      "image/png": "[encoded data removed]",
      "text/plain": [
       "<Figure size 432x216 with 1 Axes>"
      ]
     },
     "metadata": {},
     "output_type": "display_data"
    },
    {
     "data": {
      "image/png": "[encoded data removed]",
      "text/plain": [
       "<Figure size 432x216 with 1 Axes>"
      ]
     },
     "metadata": {},
     "output_type": "display_data"
    }
   ],
   "source": [
    "for cv in cvs:\n",
    "    this_cv = cv(n_splits=n_splits)\n",
    "    fig, ax = plt.subplots(figsize=(6, 3))\n",
    "    plot_cv_indices(this_cv, X, y, groups, ax, n_splits)\n",
    "\n",
    "    ax.legend([Patch(color=cmap_cv(.8)), Patch(color=cmap_cv(.02))],\n",
    "              ['Testing set', 'Training set'], loc=(1.02, .8))\n",
    "    # Make the legend fit\n",
    "    plt.tight_layout()\n",
    "    fig.subplots_adjust(right=.7)\n",
    "plt.show()"
   ]
  },
  {
   "cell_type": "code",
   "execution_count": null,
   "metadata": {},
   "outputs": [],
   "source": []
  }
 ],
 "metadata": {
  "kernelspec": {
   "display_name": "Python 3",
   "language": "python",
   "name": "python3"
  },
  "language_info": {
   "codemirror_mode": {
    "name": "ipython",
    "version": 3
   },
   "file_extension": ".py",
   "mimetype": "text/x-python",
   "name": "python",
   "nbconvert_exporter": "python",
   "pygments_lexer": "ipython3",
   "version": "3.6.5"
  }
 },
 "nbformat": 4,
 "nbformat_minor": 2
}
